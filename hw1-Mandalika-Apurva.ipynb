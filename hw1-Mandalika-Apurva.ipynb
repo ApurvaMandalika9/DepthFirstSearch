{
  "nbformat": 4,
  "nbformat_minor": 0,
  "metadata": {
    "colab": {
      "provenance": []
    },
    "kernelspec": {
      "name": "python3",
      "display_name": "Python 3"
    },
    "language_info": {
      "name": "python"
    }
  },
  "cells": [
    {
      "cell_type": "code",
      "metadata": {
        "id": "fQgxvJvnoO9r"
      },
      "source": [
        "\n",
        "###########################################################################\n",
        "#\n",
        "# DFS example code  & Node data structure\n",
        "# Yoonsuck Choe\n",
        "# 9/13/2021\n",
        "#\n",
        "###########################################################################\n",
        "\n",
        "DEBUG_FLAG=True\n",
        "GOAL = 6\n",
        "\n",
        "'''\n",
        "\n",
        " debug message : turn DEBUG_FLAG off to suppress messages\n",
        "\n",
        "'''\n",
        "def debug (msg,obj):\n",
        "  if (DEBUG_FLAG):\n",
        "    print(msg,end=\"\")\n",
        "    print(obj)\n",
        "\n",
        "\n",
        "'''\n",
        "\n",
        " goalp : check if it is a leaf (leaf value > GOAL, then goal found)\n",
        "\n",
        "'''\n",
        "def goalp (node):\n",
        "\n",
        "  if (node.state == GOAL):\n",
        "    print(\"Goal found\")\n",
        "    return True\n",
        "  else:\n",
        "    print(\"Goal not found\")\n",
        "    return False\n",
        "\n",
        "# test:\n",
        "# goalp([ [ 1 ,2 ] , 3] )\n",
        "# goalp(11)\n",
        "\n",
        "\n",
        "'''\n",
        "\n",
        " expand : given node, expand into childern, and return list containing children\n",
        "\n",
        "'''\n",
        "#def expand (node):\n",
        "\n",
        "#  if (isinstance(node,int)):\n",
        "#     return []\n",
        "#  else:\n",
        "#     '''\n",
        "#     If \"node\" = [ a, b, c ]\n",
        "#     then expanded items are a, b, c.\n",
        "#     Putting a, b, c in a list gives [ a, b, c ], which is the same as \"node\".\n",
        "#     '''\n",
        "#     return node\n",
        "\n",
        "def expand(node,eval_fun):\n",
        "  node_list = node.expand()\n",
        "  node_list = node.sort(node_list, eval_fun)\n",
        "  return node_list\n",
        "\n",
        "# test:\n",
        "# expand([ 2 , [3 , 4 ], 5])\n",
        "# expand(2)\n",
        "\n",
        "'''\n",
        "\n",
        " append : append two lists a and b\n",
        "\n",
        "'''\n",
        "def append_list(a, b):\n",
        "  ret = a\n",
        "  ret.extend(b)\n",
        "  return ret\n",
        "\n"
      ],
      "execution_count": 13,
      "outputs": []
    },
    {
      "cell_type": "code",
      "metadata": {
        "id": "mweu1Q64y2na",
        "colab": {
          "base_uri": "https://localhost:8080/",
          "height": 35
        },
        "outputId": "386b6e3e-2528-4cbc-b3db-a25407d1601d"
      },
      "source": [
        "'''\n",
        "\n",
        "  dfs : iterative version\n",
        "\n",
        "'''\n",
        "#def dfs (node):\n",
        "\n",
        "  # put node in empty nodelist\n",
        "#  node_list = [node]\n",
        "#  debug(\"Start: \", node_list)\n",
        "\n",
        "  # MAIN LOOP: while node_list is not empty\n",
        "#  while (node_list):\n",
        "\n",
        "#    # A. visit: pop first node from list\n",
        "#    cur_node = node_list.pop(0)\n",
        "#    debug(\"Visiting: \", cur_node)\n",
        "\n",
        "    # B. goal check\n",
        "#    if (goalp(cur_node)):\n",
        "\n",
        "      # 1 goal found\n",
        "#      print(\"  MATCH = \"+str(cur_node))\n",
        "#      return cur_node\n",
        "\n",
        "#    else:\n",
        "      # 2 further explore\n",
        "\n",
        "      # 2.1: expand node\n",
        "#      expanded = expand(cur_node)\n",
        "#      debug(\"  Expanded=\", expanded)\n",
        "\n",
        "      # 2.2: enqueue (change here to change search behavior)\n",
        "\n",
        "      # for dfs:\n",
        "#      node_list = append_list(expanded, node_list)\n",
        "      # for bfs: change to\n",
        "      #node_list = append_list(node_list, expanded)\n",
        "\n",
        "    # C. print current node_list\n",
        "#    debug(\"  New node list=\",node_list)\n",
        "#    debug(\"\",\"\")\n",
        "\n"
      ],
      "execution_count": 14,
      "outputs": [
        {
          "output_type": "execute_result",
          "data": {
            "text/plain": [
              "'\\n\\n  dfs : iterative version\\n\\n'"
            ],
            "application/vnd.google.colaboratory.intrinsic+json": {
              "type": "string"
            }
          },
          "metadata": {},
          "execution_count": 14
        }
      ]
    },
    {
      "cell_type": "code",
      "metadata": {
        "id": "V615Wq74zAu8"
      },
      "source": [
        "# test: change the tree or change the goal (set GOAL at the top)\n",
        "#dfs([2 , [3 ,[7, 11 ]], [9, 20], 5])"
      ],
      "execution_count": 15,
      "outputs": []
    },
    {
      "cell_type": "code",
      "metadata": {
        "id": "GxiVIJ7fS1JK"
      },
      "source": [
        "###########################################################################\n",
        "# NODE data structure\n",
        "#\n",
        "# Below are some ideas on how to make the simple example above more general\n",
        "# - use adjacency matrix to define graph, and conduct search on the graph\n",
        "# - each cell in the matrix is the distance\n",
        "# - column -> row connectivity\n",
        "###########################################################################\n",
        "\n",
        "# EXAMPLE search problem\n",
        "\n",
        "# 1. adjacency matrix : states 0, 1, 2, 3.\n",
        "#    - assume Init =0 , Goal = 3.\n",
        "#    - cell values indicate the cost of each move\n",
        "MAT = [[0, 30, 10,  0],\n",
        "       [0,  0,  0,  5],\n",
        "       [0, 10,  0, 20],\n",
        "       [0,  0,  0,  0]]\n",
        "'''\n",
        " The search graph looks like this:\n",
        "\n",
        " (0) --10--> (2) --20--> (3)\n",
        "  |     _10__/            ^\n",
        "  30  /                   |\n",
        "  |  |                    |\n",
        "  v  v                   /\n",
        "  (1)_______5___________/\n",
        "\n",
        "'''\n",
        "\n",
        "# 2. heuristic values : states 0, 1, 2, 3\n",
        "H = [20,\n",
        "      4,\n",
        "     13,\n",
        "      0]\n",
        "\n",
        "\n",
        "'''\n",
        "\n",
        "  NODE CLASS\n",
        "\n",
        "  - assumes MAT and H are defined as global variables (see above)\n",
        "  - support creation of new start node, expand, and printing node and node list.\n",
        "\n",
        "'''\n",
        "class Node:\n",
        "\n",
        "  def __init__(self, state):\n",
        "    '''\n",
        "    initialize a node\n",
        "    '''\n",
        "    self.state = state\n",
        "    self.h = H[state]\n",
        "    self.cost = 0\n",
        "    self.path = str(state)\n",
        "\n",
        "  def move(self, child_state):\n",
        "    '''\n",
        "    make one move to child_state\n",
        "    - returns resulting child node\n",
        "    - do all the book-keeping\n",
        "    '''\n",
        "    edge_cost = MAT[self.state][child_state]\n",
        "    if (edge_cost>0):\n",
        "      child       = Node(child_state)\n",
        "      child.cost = self.cost + edge_cost\n",
        "      child.path  = self.path+\"->\"+str(child_state)\n",
        "      return child\n",
        "    else:\n",
        "      return []\n",
        "\n",
        "  def expand(self):\n",
        "    '''\n",
        "    expand node and do all the book-keeping\n",
        "    - returns node list\n",
        "    '''\n",
        "\n",
        "    node_list = [ ]\n",
        "\n",
        "    for child_state in range(0,len(H)):\n",
        "       if (MAT[self.state][child_state]>0):\n",
        "         child_node = self.move(child_state)\n",
        "         node_list.extend([child_node])\n",
        "\n",
        "    return node_list\n",
        "\n",
        "  def print(self):\n",
        "    '''\n",
        "    print out node data structure\n",
        "    '''\n",
        "    print(\"{Node: state=\"+str(self.state)+\", cost=\"+str(self.cost)+\", h=\"+str(self.h)+\", path=(\"+self.path+\")} \",end=\"\")\n",
        "\n",
        "  def print_list(node_list):\n",
        "    '''\n",
        "    print out a node list\n",
        "    '''\n",
        "    print(\"[ \",end=\"\")\n",
        "\n",
        "    for n in node_list:\n",
        "      Node.print(n)\n",
        "      print(\" \",end=\"\")\n",
        "\n",
        "    print(\"]\")\n",
        "\n",
        "  def sort(self, node_list, eval_fn):\n",
        "    '''\n",
        "    For informed search, you need to sort the list using a certain evaluation function\n",
        "    - the current implementation is a place holder: it returns an unsorted list\n",
        "    '''\n",
        "    if eval_fn == 'A*' :\n",
        "      node_list = sorted(node_list, key=lambda node: node.cost + node.h)\n",
        "\n",
        "    if eval_fn == 'gfb':\n",
        "      node_list = sorted(node_list, key=lambda node: node.h)\n",
        "\n",
        "\n",
        "    return node_list\n"
      ],
      "execution_count": 16,
      "outputs": []
    },
    {
      "cell_type": "code",
      "source": [
        "MAT = [[0, 10, 20, 50, 0, 0, 0],\n",
        "[0, 0, 0, 0, 100, 0, 150],\n",
        "[0, 70, 0, 0, 70, 30, 0],\n",
        "[0, 160, 50, 0, 70, 0, 0],\n",
        "[0, 0, 0, 0, 0, 80, 100],\n",
        "[0, 0, 0, 0, 0, 0, 60],\n",
        "[0, 0, 0, 0, 0, 0, 0]]\n",
        "\n",
        "H =[80,\n",
        "    70,\n",
        "    72,\n",
        "    57,\n",
        "    28,\n",
        "    45,\n",
        "    00\n",
        "    ]"
      ],
      "metadata": {
        "id": "SAlPMBG9frgK"
      },
      "execution_count": 17,
      "outputs": []
    },
    {
      "cell_type": "code",
      "source": [
        "def search_techniques(node, eval_func):\n",
        "  start_node = [node]\n",
        "  final_list = []\n",
        "\n",
        "  while(start_node):\n",
        "    current_node = start_node.pop(0)\n",
        "    if(goalp(current_node)):\n",
        "      return current_node\n",
        "\n",
        "    else:\n",
        "      expanded_node = expand(current_node, eval_func)\n",
        "      start_node = append_list(expanded_node, start_node)\n",
        "      expanded_list = Node.print_list(expanded_node)\n",
        "      print(\"Visit Order:{}\".format(expanded_list))\n",
        "      final_list = Node.print_list(start_node)"
      ],
      "metadata": {
        "id": "s0aQMuB6hbmq"
      },
      "execution_count": 18,
      "outputs": []
    },
    {
      "cell_type": "code",
      "source": [
        "node = Node(0)\n",
        "search_techniques(node, 'gfb')"
      ],
      "metadata": {
        "colab": {
          "base_uri": "https://localhost:8080/"
        },
        "id": "aktPXBu9mAhh",
        "outputId": "44c9607f-e7ec-4a56-996d-b1ab80026c38"
      },
      "execution_count": 19,
      "outputs": [
        {
          "output_type": "stream",
          "name": "stdout",
          "text": [
            "Goal not found\n",
            "[ {Node: state=3, cost=50, h=57, path=(0->3)}  {Node: state=1, cost=10, h=70, path=(0->1)}  {Node: state=2, cost=20, h=72, path=(0->2)}  ]\n",
            "Visit Order:None\n",
            "[ {Node: state=3, cost=50, h=57, path=(0->3)}  {Node: state=1, cost=10, h=70, path=(0->1)}  {Node: state=2, cost=20, h=72, path=(0->2)}  ]\n",
            "Goal not found\n",
            "[ {Node: state=4, cost=120, h=28, path=(0->3->4)}  {Node: state=1, cost=210, h=70, path=(0->3->1)}  {Node: state=2, cost=100, h=72, path=(0->3->2)}  {Node: state=1, cost=10, h=70, path=(0->1)}  {Node: state=2, cost=20, h=72, path=(0->2)}  ]\n",
            "Visit Order:None\n",
            "[ {Node: state=4, cost=120, h=28, path=(0->3->4)}  {Node: state=1, cost=210, h=70, path=(0->3->1)}  {Node: state=2, cost=100, h=72, path=(0->3->2)}  {Node: state=1, cost=10, h=70, path=(0->1)}  {Node: state=2, cost=20, h=72, path=(0->2)}  ]\n",
            "Goal not found\n",
            "[ {Node: state=6, cost=220, h=0, path=(0->3->4->6)}  {Node: state=5, cost=200, h=45, path=(0->3->4->5)}  {Node: state=1, cost=210, h=70, path=(0->3->1)}  {Node: state=2, cost=100, h=72, path=(0->3->2)}  {Node: state=1, cost=10, h=70, path=(0->1)}  {Node: state=2, cost=20, h=72, path=(0->2)}  ]\n",
            "Visit Order:None\n",
            "[ {Node: state=6, cost=220, h=0, path=(0->3->4->6)}  {Node: state=5, cost=200, h=45, path=(0->3->4->5)}  {Node: state=1, cost=210, h=70, path=(0->3->1)}  {Node: state=2, cost=100, h=72, path=(0->3->2)}  {Node: state=1, cost=10, h=70, path=(0->1)}  {Node: state=2, cost=20, h=72, path=(0->2)}  ]\n",
            "Goal found\n"
          ]
        },
        {
          "output_type": "execute_result",
          "data": {
            "text/plain": [
              "<__main__.Node at 0x78a6ca2672e0>"
            ]
          },
          "metadata": {},
          "execution_count": 19
        }
      ]
    },
    {
      "cell_type": "code",
      "source": [
        "node = Node(0)\n",
        "search_techniques(node, 'A*')"
      ],
      "metadata": {
        "colab": {
          "base_uri": "https://localhost:8080/"
        },
        "id": "k3pV4n_RmExz",
        "outputId": "88d7ceea-1509-4d20-feb4-a4269ba07abc"
      },
      "execution_count": 20,
      "outputs": [
        {
          "output_type": "stream",
          "name": "stdout",
          "text": [
            "Goal not found\n",
            "[ {Node: state=1, cost=10, h=70, path=(0->1)}  {Node: state=2, cost=20, h=72, path=(0->2)}  {Node: state=3, cost=50, h=57, path=(0->3)}  ]\n",
            "Visit Order:None\n",
            "[ {Node: state=1, cost=10, h=70, path=(0->1)}  {Node: state=2, cost=20, h=72, path=(0->2)}  {Node: state=3, cost=50, h=57, path=(0->3)}  ]\n",
            "Goal not found\n",
            "[ {Node: state=4, cost=110, h=28, path=(0->1->4)}  {Node: state=6, cost=160, h=0, path=(0->1->6)}  {Node: state=2, cost=20, h=72, path=(0->2)}  {Node: state=3, cost=50, h=57, path=(0->3)}  ]\n",
            "Visit Order:None\n",
            "[ {Node: state=4, cost=110, h=28, path=(0->1->4)}  {Node: state=6, cost=160, h=0, path=(0->1->6)}  {Node: state=2, cost=20, h=72, path=(0->2)}  {Node: state=3, cost=50, h=57, path=(0->3)}  ]\n",
            "Goal not found\n",
            "[ {Node: state=6, cost=210, h=0, path=(0->1->4->6)}  {Node: state=5, cost=190, h=45, path=(0->1->4->5)}  {Node: state=6, cost=160, h=0, path=(0->1->6)}  {Node: state=2, cost=20, h=72, path=(0->2)}  {Node: state=3, cost=50, h=57, path=(0->3)}  ]\n",
            "Visit Order:None\n",
            "[ {Node: state=6, cost=210, h=0, path=(0->1->4->6)}  {Node: state=5, cost=190, h=45, path=(0->1->4->5)}  {Node: state=6, cost=160, h=0, path=(0->1->6)}  {Node: state=2, cost=20, h=72, path=(0->2)}  {Node: state=3, cost=50, h=57, path=(0->3)}  ]\n",
            "Goal found\n"
          ]
        },
        {
          "output_type": "execute_result",
          "data": {
            "text/plain": [
              "<__main__.Node at 0x78a6ca29bf70>"
            ]
          },
          "metadata": {},
          "execution_count": 20
        }
      ]
    },
    {
      "cell_type": "code",
      "source": [
        "# test node class\n",
        "\n",
        "print(\"Testing Node class\")\n",
        "node = Node(0)\n",
        "node.print()\n",
        "print(\"\")\n",
        "Node.print_list([node, node, node])\n",
        "print(\"\\n\")\n",
        "\n",
        "# test move(): Move 0 -> 1\n",
        "\n",
        "print(\"Testing Node class : move function\")\n",
        "node = Node(0)\n",
        "child = node.move(1)\n",
        "child.print()\n",
        "print(\"\\n\\n\")\n",
        "\n",
        "# test expand() : expand from state 0\n",
        "\n",
        "print(\"Testing Node class : expand function\")\n",
        "node = Node(0)\n",
        "expanded_node_list = node.expand()\n",
        "Node.print_list(expanded_node_list)\n",
        "print(\"\\n\")\n",
        "\n",
        "print(\"Testing Node class : expand function - next level\")\n",
        "for n in expanded_node_list:\n",
        "  grand_children = n.expand()\n",
        "  Node.print_list(grand_children)"
      ],
      "metadata": {
        "colab": {
          "base_uri": "https://localhost:8080/"
        },
        "id": "dG6w96x5jsqC",
        "outputId": "5b19241d-e3d7-473f-e110-d9d77dce1796"
      },
      "execution_count": 21,
      "outputs": [
        {
          "output_type": "stream",
          "name": "stdout",
          "text": [
            "Testing Node class\n",
            "{Node: state=0, cost=0, h=80, path=(0)} \n",
            "[ {Node: state=0, cost=0, h=80, path=(0)}  {Node: state=0, cost=0, h=80, path=(0)}  {Node: state=0, cost=0, h=80, path=(0)}  ]\n",
            "\n",
            "\n",
            "Testing Node class : move function\n",
            "{Node: state=1, cost=10, h=70, path=(0->1)} \n",
            "\n",
            "\n",
            "Testing Node class : expand function\n",
            "[ {Node: state=1, cost=10, h=70, path=(0->1)}  {Node: state=2, cost=20, h=72, path=(0->2)}  {Node: state=3, cost=50, h=57, path=(0->3)}  ]\n",
            "\n",
            "\n",
            "Testing Node class : expand function - next level\n",
            "[ {Node: state=4, cost=110, h=28, path=(0->1->4)}  {Node: state=6, cost=160, h=0, path=(0->1->6)}  ]\n",
            "[ {Node: state=1, cost=90, h=70, path=(0->2->1)}  {Node: state=4, cost=90, h=28, path=(0->2->4)}  {Node: state=5, cost=50, h=45, path=(0->2->5)}  ]\n",
            "[ {Node: state=1, cost=210, h=70, path=(0->3->1)}  {Node: state=2, cost=100, h=72, path=(0->3->2)}  {Node: state=4, cost=120, h=28, path=(0->3->4)}  ]\n"
          ]
        }
      ]
    }
  ]
}